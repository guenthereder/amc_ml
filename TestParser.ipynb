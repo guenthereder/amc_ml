{
 "cells": [
  {
   "cell_type": "code",
   "execution_count": 5,
   "id": "4e148621-3f29-40d7-9995-0fd308a84a64",
   "metadata": {},
   "outputs": [
    {
     "name": "stdout",
     "output_type": "stream",
     "text": [
      "pygame 2.1.1.dev1 (SDL 2.0.16, Python 3.9.7)\n",
      "Hello from the pygame community. https://www.pygame.org/contribute.html\n"
     ]
    }
   ],
   "source": [
    "%load_ext autoreload\n",
    "%autoreload 2\n",
    "import os\n",
    "import numpy as np\n",
    "import matplotlib.pyplot as plt\n",
    "from transforms3d.euler import euler2mat\n",
    "from mpl_toolkits.mplot3d import Axes3D\n",
    "import pickle\n",
    "from tqdm import tqdm\n",
    "from bs4 import BeautifulSoup\n",
    "import pandas as pd\n",
    "import requests\n",
    "import csv\n",
    "import torch\n",
    "import torch.nn as nn\n",
    "\n",
    "from Joint import *\n",
    "from Viewer import *\n",
    "from amc_parser import *\n",
    "\n",
    "from AMCDataset import *\n",
    "\n",
    "\n",
    "def data_loader_setup(ds:Dataset, config):\n",
    "    indices = list(range(len(ds)))\n",
    "    split   = int(np.floor(config['validation_split'] * len(ds)))\n",
    "\n",
    "    if config['shuffle_dataset']:\n",
    "        np.random.seed(config['random_seed'])\n",
    "        np.random.shuffle(indices)\n",
    "\n",
    "    train_indices, val_indices = indices[split:], indices[:split]\n",
    "\n",
    "    ds_train = torch.utils.data.Subset(ds, train_indices)\n",
    "    ds_valid = torch.utils.data.Subset(ds, val_indices)\n",
    "\n",
    "    train_loader = torch.utils.data.DataLoader(\n",
    "        ds_train, \n",
    "        batch_size=config['batch_size'], \n",
    "        shuffle=config['shuffle_dataset']\n",
    "    )\n",
    "    valid_loader = torch.utils.data.DataLoader(\n",
    "        ds_valid, \n",
    "        batch_size=config['batch_size'], \n",
    "        shuffle=False\n",
    "    )\n",
    "    \n",
    "    return train_loader, valid_loader\n",
    "\n",
    "\n",
    "with open('./data/df_amc_full.pkl', 'rb') as f:\n",
    "    df = pickle.load(f)"
   ]
  },
  {
   "cell_type": "code",
   "execution_count": 6,
   "id": "3181a3ff",
   "metadata": {},
   "outputs": [],
   "source": [
    "classes = {'walk', 'dance', 'jump', 'steps', 'acrobatics', 'interaction', 'getting up', 'pregnant', 'recreation', 'swimming', \n",
    "'soccer', 'basketball', 'skateboard', 'golf', 'run', 'motion', 'swing', 'salsa', 'charelston', 'everyday'}\n",
    "\n",
    "class_assignment = {'walk': 'walk', 'steps': 'walk', 'dance':'dance', 'jump':'jump', 'acrobatics': 'acrobatics', \n",
    "'interaction': 'interaction', 'getting up':'stand up', 'pregnant': 'pregnant', 'swimming':'swimming', 'recreation':'recreation',\n",
    "'soccer':'soccer', 'basketball': 'basketball', 'skateboard':'skateboard', 'golf':'golf', 'run':'run', 'motion':'motion',\n",
    "'swing':'swing', 'salsa': 'dance 2', 'charelston': 'dance 2', 'everyday': 'everyday'\n",
    "}\n",
    "main_indices = {x:y for (x,y) in df.index}\n",
    "desc_list = set()\n",
    "for k in main_indices:\n",
    "    desc = df.at[(k,main_indices[k]), 'id_desc'].lower()\n",
    "    if desc != '':\n",
    "        desc_list.add(desc.lower())\n",
    "space = 20\n",
    "desc_list_dict = {d: np.nan for d in desc_list}\n",
    "for key in desc_list_dict:\n",
    "    if any(x in key for x in classes):\n",
    "        for c in classes:\n",
    "            if c in key:\n",
    "                #print(f\"assining class {c} to {desc}\")\n",
    "                desc_list_dict[key] = class_assignment[c]\n",
    "    #else:\n",
    "        #print(f\" {desc_list_dict[key]:<{space}} -> {key}\")\n",
    "df['label'] = np.nan\n",
    "for key in desc_list_dict:\n",
    "    df.loc[df.id_desc.str.lower() == key, 'label'] = desc_list_dict[key]\n",
    "df.dropna(subset=['label'], inplace=True)\n",
    "ds = AMCDataset(df)"
   ]
  },
  {
   "cell_type": "code",
   "execution_count": 26,
   "id": "708afc86",
   "metadata": {},
   "outputs": [],
   "source": [
    "class RNN(nn.Module):\n",
    "    def __init__(self, input_size, hidden_size, num_layers, num_classes):\n",
    "        super(RNN, self).__init__()\n",
    "        self.num_layers = num_layers\n",
    "        self.hidden_size = hidden_size\n",
    "        self.rnn = nn.LSTM(input_size=input_size, hidden_size=hidden_size, num_layers=num_layers)\n",
    "\n",
    "        self.linear = nn.Linear(hidden_size,config['num_classes'])\n",
    "        self.softmax = nn.LogSoftmax(dim=1)\n",
    "        \n",
    "\n",
    "    def forward(self, x, h0):\n",
    "        out, (h,c) = self.rnn(x,h0)\n",
    "        \n",
    "        h_out = self.linear(h)\n",
    "        h_out = self.softmax(h_out)\n",
    "\n",
    "        return out, h_out, (h,c)\n"
   ]
  },
  {
   "cell_type": "code",
   "execution_count": 27,
   "id": "3674fae7",
   "metadata": {},
   "outputs": [],
   "source": [
    "actual_classes = {class_assignment[k] for k in classes}\n",
    "class_indices = {c:idx for idx, c in enumerate(actual_classes)}\n",
    "input_size = 93\n",
    "max_seq_length = max(x.shape[0] for x in df.data)\n",
    "hidden_size = 128\n",
    "num_layers = 2\n",
    "config = {}\n",
    "config['random_seed'] = 1\n",
    "config['shuffle_dataset'] = True\n",
    "config['validation_split'] = 0.1\n",
    "config['batch_size'] = 16\n",
    "config['num_classes'] = len(actual_classes)\n",
    "learning_rate = 0.001\n",
    "train_loader, validation_loader = data_loader_setup(ds,config)"
   ]
  },
  {
   "cell_type": "code",
   "execution_count": 28,
   "id": "90e78fc7",
   "metadata": {},
   "outputs": [],
   "source": [
    "rnn = RNN(input_size, hidden_size, num_layers, len(actual_classes))\n",
    "h = torch.zeros(num_layers, config['batch_size'], hidden_size)\n",
    "c = torch.zeros(num_layers, config['batch_size'], hidden_size)\n",
    "optimizer = torch.optim.Adam(rnn.parameters(), lr=learning_rate)"
   ]
  },
  {
   "cell_type": "code",
   "execution_count": 29,
   "id": "ee0a37c9",
   "metadata": {},
   "outputs": [],
   "source": [
    "criterion = nn.NLLLoss()\n",
    "rnn.train()\n",
    "for X, (categories, _) in train_loader:\n",
    "    target_categories = [class_indices[x] for x in categories]\n",
    "\n",
    "    _, h_out, (h,c) = rnn(X.transpose(0,1).float(), (h,c))\n",
    "\n",
    "    loss = criterion(h_out, torch.tensor(target_categories))\n",
    "    optimizer.zero_grad()\n",
    "    loss.backward()\n",
    "    optimizer.step()\n",
    "\n",
    "    break"
   ]
  },
  {
   "cell_type": "code",
   "execution_count": null,
   "id": "e997a63e",
   "metadata": {},
   "outputs": [],
   "source": []
  }
 ],
 "metadata": {
  "kernelspec": {
   "display_name": "Python 3 (ipykernel)",
   "language": "python",
   "name": "python3"
  },
  "language_info": {
   "codemirror_mode": {
    "name": "ipython",
    "version": 3
   },
   "file_extension": ".py",
   "mimetype": "text/x-python",
   "name": "python",
   "nbconvert_exporter": "python",
   "pygments_lexer": "ipython3",
   "version": "3.9.7"
  }
 },
 "nbformat": 4,
 "nbformat_minor": 5
}
